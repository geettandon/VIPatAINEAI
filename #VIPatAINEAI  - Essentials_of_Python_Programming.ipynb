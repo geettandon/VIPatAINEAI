{
 "cells": [
  {
   "cell_type": "markdown",
   "metadata": {},
   "source": [
    "# Essentials of Python Programming\n",
    "\n",
    "Virtual Internship Program, AINE AI.\n",
    "\n",
    "Submitted by: Geet Tandon."
   ]
  },
  {
   "cell_type": "markdown",
   "metadata": {},
   "source": [
    "## Rock, Paper, Scissors Game"
   ]
  },
  {
   "cell_type": "code",
   "execution_count": 2,
   "metadata": {},
   "outputs": [
    {
     "name": "stdout",
     "output_type": "stream",
     "text": [
      "--------------------------------------------\n",
      "We are going to play Rock, Paper and Scissors. \n",
      "You will be asked to select a shape. Between you and the computer, we will see who wins.\n",
      "-------------------------------------------- \n",
      "\n",
      "Please select your shape: rocK\n",
      "-------------------------------------------- \n",
      "\n",
      "Input registered successfully.\n",
      "-------------------------------------------- \n",
      "\n",
      "Computer has selected Rock.\n",
      "It's a tie as you and computer both have chosen Rock.\n"
     ]
    }
   ],
   "source": [
    "# We are going to create a Rock, Paper, Scissors game.\n",
    "\n",
    "# The Conditions of the game are such that,\n",
    "    ## Rock beats Scissors\n",
    "    ## Scissors beats Paper\n",
    "    ## Paper beats Rock\n",
    "    \n",
    "# Importing random library.\n",
    "import random\n",
    "\n",
    "# List of all available inputs.\n",
    "shapes = ['Rock', 'Paper', 'Scissors']\n",
    "\n",
    "# Welcome Statement.\n",
    "print('--------------------------------------------')\n",
    "print('''We are going to play Rock, Paper and Scissors. \\nYou will be asked to select a shape. Between you and the computer, we will see who wins.''')\n",
    "\n",
    "# Creating a while loop to rectify any errors from the user side.\n",
    "while True:\n",
    "        print('--------------------------------------------', '\\n')\n",
    "        user_shape = input('Please select your shape: ')               # Getting input from the user.\n",
    "        user_shape = user_shape.title()                                # Converting input to appropriate case if needed.\n",
    "        if user_shape in shapes:\n",
    "            print('--------------------------------------------', '\\n')\n",
    "            print('Input registered successfully.')\n",
    "            break                                                      # Breaking the loop if input is correct.\n",
    "        else:\n",
    "            print('--------------------------------------------', '\\n')\n",
    "            print('Invalid input. Please select from Rock, Paper and Scissors only.')\n",
    "            continue                                                   # Letting user to input again if input is wrong.\n",
    "\n",
    "\n",
    "# Generating computer's selection using random library.\n",
    "computer_shape = random.choice(shapes)\n",
    "print('--------------------------------------------', '\\n')\n",
    "print('Computer has selected ' + computer_shape + '.')\n",
    "\n",
    "\n",
    "# If condition is used to stop the code if there is a tie.\n",
    "if computer_shape == user_shape:\n",
    "    print(\"It's a tie as you and computer both have chosen \" + user_shape + \".\") \n",
    "else:                                                                             # Based on inputs, winner will be selected.\n",
    "    if user_shape == 'Rock':\n",
    "        if computer_shape == 'Paper':\n",
    "            print('--------------------------------------------', '\\n')\n",
    "            print('Paper beats Rock. You lose!')                            \n",
    "        else:\n",
    "            print('--------------------------------------------', '\\n')\n",
    "            print('Rock beats Scissors. You win!')\n",
    "\n",
    "    if user_shape == 'Paper':\n",
    "        if computer_shape == 'Scissors':\n",
    "            print('--------------------------------------------', '\\n')\n",
    "            print('Scissors beats Paper. You lose!')\n",
    "        else:\n",
    "            print('--------------------------------------------', '\\n')\n",
    "            print('Paper beats Rock. You win!')\n",
    "\n",
    "    if user_shape == 'Scissors':\n",
    "        if computer_shape == 'Rock':\n",
    "            print('--------------------------------------------', '\\n')\n",
    "            print('Rock beats Scissors. You lose!')\n",
    "        else:\n",
    "            print('--------------------------------------------', '\\n')\n",
    "            print('Scissors beats Paper. You win!')"
   ]
  }
 ],
 "metadata": {
  "kernelspec": {
   "display_name": "Python 3",
   "language": "python",
   "name": "python3"
  },
  "language_info": {
   "codemirror_mode": {
    "name": "ipython",
    "version": 3
   },
   "file_extension": ".py",
   "mimetype": "text/x-python",
   "name": "python",
   "nbconvert_exporter": "python",
   "pygments_lexer": "ipython3",
   "version": "3.7.3"
  }
 },
 "nbformat": 4,
 "nbformat_minor": 2
}
